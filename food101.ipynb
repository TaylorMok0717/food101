{
  "cells": [
    {
      "cell_type": "code",
      "execution_count": 1,
      "metadata": {
        "colab": {
          "base_uri": "https://localhost:8080/",
          "height": 0
        },
        "id": "7X5AiHfyOmBi",
        "outputId": "fd99f7e8-c24d-437b-d8ca-478478db4473"
      },
      "outputs": [],
      "source": [
        "import numpy as np\n",
        "import pandas as pd\n",
        "from pathlib import Path\n",
        "import os.path\n",
        "from sklearn.model_selection import train_test_split\n",
        "from torch.utils.data import Dataset, DataLoader\n",
        "from torchvision import transforms\n",
        "import cv2\n",
        "from PIL import Image\n",
        "import torch\n",
        "from torch import nn\n",
        "import torch.optim as optim\n",
        "import torchvision.models as models\n",
        "\n"
      ]
    },
    {
      "cell_type": "markdown",
      "metadata": {
        "id": "vUe_tHEYyi3q"
      },
      "source": [
        "# Data Preparation"
      ]
    },
    {
      "cell_type": "code",
      "execution_count": 2,
      "metadata": {
        "id": "9nw4TxQOy51Z"
      },
      "outputs": [],
      "source": [
        "# define all parameter\n",
        "TrainSampleNo = 300\n",
        "SampleNo = 100\n",
        "batch = 16 "
      ]
    },
    {
      "cell_type": "code",
      "execution_count": 3,
      "metadata": {
        "id": "5RfMDw7FVrTD"
      },
      "outputs": [],
      "source": [
        "def get_data_extract():\n",
        "        if \"food-101\" in os.listdir():\n",
        "            print(\"Dataset already exists\")\n",
        "        else:\n",
        "            print(\"Downloading the data...\")\n",
        "            !wget http://data.vision.ee.ethz.ch/cvl/food-101.tar.gz\n",
        "            print(\"Dataset downloaded!\")\n",
        "            print(\"Extracting data..\")\n",
        "            !tar xzvf food-101.tar.gz\n",
        "            print(\"Extraction done!\")"
      ]
    },
    {
      "cell_type": "code",
      "execution_count": 4,
      "metadata": {
        "colab": {
          "base_uri": "https://localhost:8080/"
        },
        "id": "UJR2PNbIW_t6",
        "outputId": "9a11be5e-e29d-4e15-abd3-4d8f28821022"
      },
      "outputs": [
        {
          "name": "stdout",
          "output_type": "stream",
          "text": [
            "Dataset already exists\n"
          ]
        }
      ],
      "source": [
        "get_data_extract()"
      ]
    },
    {
      "cell_type": "code",
      "execution_count": 5,
      "metadata": {
        "colab": {
          "base_uri": "https://localhost:8080/"
        },
        "id": "g6oGrQt2YYx4",
        "outputId": "c0ca5e92-f551-4699-fb39-f30a490a23ed"
      },
      "outputs": [
        {
          "name": "stderr",
          "output_type": "stream",
          "text": [
            "'ls' is not recognized as an internal or external command,\n",
            "operable program or batch file.\n"
          ]
        }
      ],
      "source": [
        "!ls food-101/images/"
      ]
    },
    {
      "cell_type": "code",
      "execution_count": 6,
      "metadata": {
        "id": "Uw0YJ4HEV0gK"
      },
      "outputs": [],
      "source": [
        "#read the train.txt and test.txt file and create a dataframe with columns: filepath and label \n",
        "path = 'food-101/images'\n",
        "def create_dataframe(data_file):\n",
        "  data = []\n",
        "  with open(data_file, \"r\") as f:\n",
        "    for line in f:\n",
        "      label, id = line.strip().split(\"/\")\n",
        "      full_path = os.path.join(path,label, id + \".jpg\")\n",
        "      data.append((full_path, label))\n",
        "  df = pd.DataFrame(data, columns=[\"Filepath\", \"Label\"])\n",
        "  return df\n",
        "train_df = create_dataframe(\"food-101/meta/train.txt\")\n",
        "test_df = create_dataframe(\"food-101/meta/test.txt\")"
      ]
    },
    {
      "cell_type": "code",
      "execution_count": 8,
      "metadata": {
        "id": "a3khWqiTdpQt"
      },
      "outputs": [],
      "source": [
        "#Sample the dataset\n",
        "train_df, valid_df = train_test_split(train_df, train_size=0.8, stratify=train_df['Label'], shuffle=True, random_state=1)\n",
        "\n",
        "grouped_df = train_df.groupby('Label')\n",
        "train_df = grouped_df.apply(lambda x: x.sample(TrainSampleNo)).reset_index(drop=True)\n",
        "\n",
        "grouped_df = valid_df.groupby('Label')\n",
        "valid_df = grouped_df.apply(lambda x: x.sample(SampleNo)).reset_index(drop=True)\n",
        "\n",
        "grouped_df = train_df.groupby('Label')\n",
        "test_df = grouped_df.apply(lambda x: x.sample(SampleNo)).reset_index(drop=True)\n",
        "\n",
        "class_names = train_df['Label'].unique().tolist()\n",
        "class_to_idx = {class_name: idx for idx, class_name in enumerate(class_names)}"
      ]
    },
    {
      "cell_type": "code",
      "execution_count": 9,
      "metadata": {
        "colab": {
          "base_uri": "https://localhost:8080/"
        },
        "id": "JICXRHg6pBKW",
        "outputId": "7c374d8b-bfeb-4234-ef3e-d169c5558f32"
      },
      "outputs": [
        {
          "name": "stdout",
          "output_type": "stream",
          "text": [
            "apple_pie        500\n",
            "miso_soup        500\n",
            "peking_duck      500\n",
            "panna_cotta      500\n",
            "pancakes         500\n",
            "                ... \n",
            "donuts           500\n",
            "deviled_eggs     500\n",
            "cup_cakes        500\n",
            "croque_madame    500\n",
            "waffles          500\n",
            "Name: Label, Length: 101, dtype: int64\n"
          ]
        }
      ],
      "source": [
        "#print the sample number\n",
        "\n",
        "train_counts = train_df['Label'].value_counts()\n",
        "\n",
        "valid_counts = valid_df['Label'].value_counts()\n",
        "\n",
        "test_counts = test_df['Label'].value_counts()\n",
        "\n",
        "\n",
        "print(train_counts + valid_counts + test_counts)\n"
      ]
    },
    {
      "cell_type": "markdown",
      "metadata": {
        "id": "QOwqLZbWd2Ta"
      },
      "source": [
        "# Data loader"
      ]
    },
    {
      "cell_type": "code",
      "execution_count": 23,
      "metadata": {
        "id": "6-5B8Lsud1Zk"
      },
      "outputs": [],
      "source": [
        "from torch.utils.data import Dataset\n",
        "from torchvision import transforms\n",
        "import cv2\n",
        "from PIL import Image\n",
        "\n",
        "class MyFood101Dataset(Dataset):\n",
        "    def __init__(self, data_df, transform=None):\n",
        "        self.data_df = data_df\n",
        "        self.transform = transform\n",
        "\n",
        "    def __len__(self):\n",
        "        return len(self.data_df)\n",
        "\n",
        "    def __getitem__(self, idx):\n",
        "        image_path = self.data_df.loc[idx, 'Filepath']\n",
        "        label = self.data_df.loc[idx, 'Label']\n",
        "        label_idx = class_to_idx[label]  # Convert label to index\n",
        "        image = cv2.imread(image_path)\n",
        "        image = Image.fromarray(cv2.cvtColor(image, cv2.COLOR_BGR2RGB))  # Convert ndarray image to PIL Image\n",
        "\n",
        "        if self.transform:\n",
        "            image = self.transform(image)\n",
        "\n",
        "        return image, label_idx\n",
        "\n",
        "transform = transforms.Compose([\n",
        "    transforms.Resize((224, 224)), # Crop a random portion of image and resize it to a given size.\n",
        "    transforms.RandomHorizontalFlip(), # Horizontally flip the given image randomly\n",
        "    transforms.ToTensor(),\n",
        "    transforms.Normalize(mean=[0.485, 0.456, 0.406], std=[0.229, 0.224, 0.225]), # Normalize the image, Mean and Std of image as also used when training the model\n",
        "])\n",
        "\n",
        "transform_test = transforms.Compose([\n",
        "    transforms.Resize((224, 224)),\n",
        "    transforms.ToTensor(),\n",
        "    transforms.Normalize(mean=[0.485, 0.456, 0.406], std=[0.229, 0.224, 0.225]),\n",
        "])\n",
        "\n",
        "train_dataset = MyFood101Dataset(train_df, transform=transform)\n",
        "valid_dataset = MyFood101Dataset(valid_df, transform=transform_test)\n",
        "test_dataset = MyFood101Dataset(test_df, transform=transform_test)"
      ]
    },
    {
      "cell_type": "code",
      "execution_count": 24,
      "metadata": {
        "id": "Zl83LPlcd5Le"
      },
      "outputs": [],
      "source": [
        "from torch.utils.data import DataLoader\n",
        "train_loader = DataLoader(train_dataset, batch_size= batch, shuffle=True)\n",
        "valid_loader = DataLoader(valid_dataset, batch_size= batch)\n",
        "test_loader  = DataLoader(test_dataset, batch_size= batch)"
      ]
    },
    {
      "cell_type": "markdown",
      "metadata": {
        "id": "JH7TgWYod6O9"
      },
      "source": [
        "# Define Custome Head"
      ]
    },
    {
      "cell_type": "code",
      "execution_count": 11,
      "metadata": {
        "id": "eyRNywg_d8-c"
      },
      "outputs": [],
      "source": [
        "import os\n",
        "from pathlib import Path\n",
        "import pandas as pd\n",
        "import numpy as np\n",
        "import torch\n",
        "from torch.utils.data import Dataset, DataLoader\n",
        "from torchvision import transforms\n",
        "from sklearn.model_selection import train_test_split\n",
        "import torchvision.models as models\n",
        "import torch.optim as optim\n",
        "import torch.nn as nn\n",
        "import torchvision.transforms.functional as TF\n",
        "from PIL import Image\n",
        "import matplotlib.pyplot as plt"
      ]
    },
    {
      "cell_type": "code",
      "execution_count": 12,
      "metadata": {
        "colab": {
          "base_uri": "https://localhost:8080/"
        },
        "id": "x8fx5fp6Qvtb",
        "outputId": "c56fcab6-bc37-4824-e147-145aa7c7cf18"
      },
      "outputs": [
        {
          "name": "stderr",
          "output_type": "stream",
          "text": [
            "c:\\Users\\moknotebook\\AppData\\Local\\Programs\\Python\\Python39\\lib\\site-packages\\torchvision\\models\\_utils.py:208: UserWarning: The parameter 'pretrained' is deprecated since 0.13 and may be removed in the future, please use 'weights' instead.\n",
            "  warnings.warn(\n",
            "c:\\Users\\moknotebook\\AppData\\Local\\Programs\\Python\\Python39\\lib\\site-packages\\torchvision\\models\\_utils.py:223: UserWarning: Arguments other than a weight enum or `None` for 'weights' are deprecated since 0.13 and may be removed in the future. The current behavior is equivalent to passing `weights=GoogLeNet_Weights.IMAGENET1K_V1`. You can also use `weights=GoogLeNet_Weights.DEFAULT` to get the most up-to-date weights.\n",
            "  warnings.warn(msg)\n"
          ]
        }
      ],
      "source": [
        "num_classes = 101\n",
        "dropout_ratio = 0.5\n",
        "googlenet = models.googlenet(pretrained=True)\n",
        "num_features = googlenet.fc.in_features"
      ]
    },
    {
      "cell_type": "markdown",
      "metadata": {
        "id": "QaMMdSimlBxD"
      },
      "source": [
        "# GoogLeNet Model 1"
      ]
    },
    {
      "cell_type": "code",
      "execution_count": 13,
      "metadata": {},
      "outputs": [],
      "source": [
        "googlenet = models.googlenet(pretrained=True)\n",
        "for name, param in googlenet.named_parameters():\n",
        "  # Freeze all layers except inception4e and inception5b (and their sub-modules)\n",
        "  if 'inception4e' in name or 'inception5b' in name:\n",
        "    param.requires_grad = True  # Unfreeze inception4e, inception5b and their layers\n",
        "  else:\n",
        "    param.requires_grad = False  # Freeze all other layers"
      ]
    },
    {
      "cell_type": "code",
      "execution_count": 14,
      "metadata": {
        "id": "WaVXc8Pp6b4q"
      },
      "outputs": [],
      "source": [
        "# Reshape the tensor before the model head\n",
        "class CustomModelHead(nn.Module):\n",
        "  def __init__(self, num_features, dropout_ratio=0.2):\n",
        "    super(CustomModelHead, self).__init__()\n",
        "    self.adaptive_pool = nn.AdaptiveAvgPool2d((1, 1))\n",
        "    self.flatten = nn.Flatten()\n",
        "    self.fc1 = nn.Linear(num_features, 512)\n",
        "    self.relu1 = nn.ReLU()\n",
        "    self.dropout1 = nn.Dropout(p=dropout_ratio)  # Add dropout layer\n",
        "    self.fc2 = nn.Linear(512, 256)\n",
        "    self.relu2 = nn.ReLU()\n",
        "    self.dropout2 = nn.Dropout(p=dropout_ratio)  # Add dropout layer\n",
        "    self.fc3 = nn.Linear(256, num_classes)\n",
        "    self.log_softmax = nn.LogSoftmax(dim=1)\n",
        "\n",
        "  def forward(self, x):\n",
        "    x = self.adaptive_pool(x.unsqueeze(-1).unsqueeze(-1))\n",
        "    x = self.flatten(x)\n",
        "    x = self.fc1(x)\n",
        "    x = self.relu1(x)\n",
        "    x = self.dropout1(x)  # Apply dropout after ReLU\n",
        "    x = self.fc2(x)\n",
        "    x = self.relu2(x)\n",
        "    x = self.dropout2(x)  # Apply dropout after ReLU\n",
        "    x = self.fc3(x)\n",
        "    x = self.log_softmax(x)\n",
        "    return x\n"
      ]
    },
    {
      "cell_type": "code",
      "execution_count": 15,
      "metadata": {
        "id": "kGe5TVffILEA"
      },
      "outputs": [],
      "source": [
        "# Replace the model head with the custom head\n",
        "googlenet.fc = CustomModelHead(num_features)\n",
        "#device = torch.device(\"cuda\" if torch.cuda.is_available() else \"cpu\")\n",
        "#googlenet.to(device)"
      ]
    },
    {
      "cell_type": "code",
      "execution_count": 16,
      "metadata": {
        "colab": {
          "base_uri": "https://localhost:8080/"
        },
        "id": "5DmfaKOV7SSA",
        "outputId": "83de9b87-68d0-4693-c8ce-4722e0266452"
      },
      "outputs": [
        {
          "name": "stdout",
          "output_type": "stream",
          "text": [
            "inception4e.branch1.conv.weight\n",
            "inception4e.branch1.bn.weight\n",
            "inception4e.branch1.bn.bias\n",
            "inception4e.branch2.0.conv.weight\n",
            "inception4e.branch2.0.bn.weight\n",
            "inception4e.branch2.0.bn.bias\n",
            "inception4e.branch2.1.conv.weight\n",
            "inception4e.branch2.1.bn.weight\n",
            "inception4e.branch2.1.bn.bias\n",
            "inception4e.branch3.0.conv.weight\n",
            "inception4e.branch3.0.bn.weight\n",
            "inception4e.branch3.0.bn.bias\n",
            "inception4e.branch3.1.conv.weight\n",
            "inception4e.branch3.1.bn.weight\n",
            "inception4e.branch3.1.bn.bias\n",
            "inception4e.branch4.1.conv.weight\n",
            "inception4e.branch4.1.bn.weight\n",
            "inception4e.branch4.1.bn.bias\n",
            "inception5b.branch1.conv.weight\n",
            "inception5b.branch1.bn.weight\n",
            "inception5b.branch1.bn.bias\n",
            "inception5b.branch2.0.conv.weight\n",
            "inception5b.branch2.0.bn.weight\n",
            "inception5b.branch2.0.bn.bias\n",
            "inception5b.branch2.1.conv.weight\n",
            "inception5b.branch2.1.bn.weight\n",
            "inception5b.branch2.1.bn.bias\n",
            "inception5b.branch3.0.conv.weight\n",
            "inception5b.branch3.0.bn.weight\n",
            "inception5b.branch3.0.bn.bias\n",
            "inception5b.branch3.1.conv.weight\n",
            "inception5b.branch3.1.bn.weight\n",
            "inception5b.branch3.1.bn.bias\n",
            "inception5b.branch4.1.conv.weight\n",
            "inception5b.branch4.1.bn.weight\n",
            "inception5b.branch4.1.bn.bias\n",
            "fc.fc1.weight\n",
            "fc.fc1.bias\n",
            "fc.fc2.weight\n",
            "fc.fc2.bias\n",
            "fc.fc3.weight\n",
            "fc.fc3.bias\n",
            "42\n"
          ]
        }
      ],
      "source": [
        "# Define a function to check if a parameter requires gradient\n",
        "def is_unfrozen(parameter):\n",
        "  return parameter.requires_grad\n",
        "\n",
        "# Print the names of unfrozen layers\n",
        "num = 0\n",
        "for name, parameter in googlenet.named_parameters():\n",
        "  if is_unfrozen(parameter):\n",
        "    print(name)\n",
        "    num+=1\n",
        "print(num)"
      ]
    },
    {
      "cell_type": "code",
      "execution_count": 17,
      "metadata": {
        "id": "Qhr8GMI-GcZO"
      },
      "outputs": [],
      "source": [
        "criterion = nn.CrossEntropyLoss()\n",
        "optimizer = torch.optim.Adam(googlenet.parameters(), lr=0.0001)"
      ]
    },
    {
      "cell_type": "code",
      "execution_count": 18,
      "metadata": {
        "id": "6LDP8iQ30suy"
      },
      "outputs": [],
      "source": [
        "# parameters\n",
        "\n",
        "checkpoint_path = 'H:\\\\My Drive\\\\UTS SEM4\\\\94691 Deep Learning\\\\DL_AT2\\\\checkpoints_vscode'\n",
        "\n",
        "from torch.optim.lr_scheduler import ReduceLROnPlateau  # Import ReduceLROnPlateau scheduler from PyTorch\n",
        "\n",
        "class CustomCallback:\n",
        "    def __init__(self, early_stop_patience=5, reduce_lr_factor=0.2, reduce_lr_patience=3, reduce_lr_min_lr=0.0000001, checkpoint_path= checkpoint_path, log_dir='logs'):\n",
        "        # Initialize callback parameters\n",
        "        self.early_stop_patience = early_stop_patience  # Patience for early stopping\n",
        "        self.reduce_lr_factor = reduce_lr_factor  # Factor by which to reduce learning rate\n",
        "        self.reduce_lr_patience = reduce_lr_patience  # Patience for reducing learning rate\n",
        "        self.reduce_lr_min_lr = reduce_lr_min_lr  # Minimum learning rate\n",
        "        #self.checkpoint_path = checkpoint_path  # Path to save model checkpoints\n",
        "        # self.log_dir = log_dir  # Directory for logging\n",
        "\n",
        "        # Initialize variables for early stopping\n",
        "        self.early_stop_counter = 0  # Counter for early stopping\n",
        "        self.best_val_loss = float('inf')  # Best validation loss\n",
        "\n",
        "        self.optimizer = None  # Optimizer for training\n",
        "        self.scheduler = None  # Learning rate scheduler\n",
        "\n",
        "    def set_optimizer(self, optimizer):\n",
        "        # Set optimizer for training\n",
        "        self.optimizer = optimizer\n",
        "\n",
        "    def on_epoch_end(self, epoch, val_loss):\n",
        "        # Early Stopping\n",
        "        if val_loss < self.best_val_loss:\n",
        "            self.best_val_loss = val_loss\n",
        "            self.early_stop_counter = 0  # Reset counter if validation loss improves\n",
        "        else:\n",
        "            self.early_stop_counter += 1  # Increment counter if validation loss does not improve\n",
        "\n",
        "        if self.early_stop_counter >= self.early_stop_patience:\n",
        "            print(\"Early stopping triggered!\")\n",
        "            return True  # Stop training if early stopping criterion is met\n",
        "\n",
        "        # Reduce LR on Plateau\n",
        "        if self.scheduler is not None:\n",
        "            self.scheduler.step(val_loss)  # Adjust learning rate based on validation loss\n",
        "\n",
        "        return False  # Continue training\n",
        "\n",
        "    def on_train_begin(self):\n",
        "        # Initialize Reduce LR on Plateau scheduler\n",
        "        self.scheduler = ReduceLROnPlateau(self.optimizer, mode='min', factor=self.reduce_lr_factor,\n",
        "                                            patience=self.reduce_lr_patience, min_lr=self.reduce_lr_min_lr)\n",
        "\n",
        "    def on_train_end(self):\n",
        "       pass\n",
        "    def set_model(self, model):\n",
        "        self.model = model  # Set model for the callback"
      ]
    },
    {
      "cell_type": "code",
      "execution_count": 19,
      "metadata": {
        "id": "z8amC7MgJD7W"
      },
      "outputs": [],
      "source": [
        "custom_callback = CustomCallback()\n",
        "custom_callback.set_optimizer(optimizer)\n",
        "custom_callback.set_model(googlenet)"
      ]
    },
    {
      "cell_type": "code",
      "execution_count": 20,
      "metadata": {
        "id": "qeXi5VQ7Jf1R"
      },
      "outputs": [],
      "source": [
        "lr_scheduler = ReduceLROnPlateau(optimizer, mode='min', factor=0.1, patience=3, min_lr=1e-6)"
      ]
    },
    {
      "cell_type": "code",
      "execution_count": 25,
      "metadata": {
        "id": "IWADsU9yQ3kB"
      },
      "outputs": [
        {
          "name": "stdout",
          "output_type": "stream",
          "text": [
            "Epoch [1/30], Train Loss: 3.6033, Train Accuracy: 0.1602, Val Loss: 2.5528, Val Accuracy: 0.3729\n",
            "Model checkpoint saved for epoch 1 at: H:\\My Drive\\UTS SEM4\\94691 Deep Learning\\DL_AT2\\checkpoints_vscodeepoch_1_googlenet.pth\n",
            "Epoch [2/30], Train Loss: 2.1725, Train Accuracy: 0.4405, Val Loss: 2.1269, Val Accuracy: 0.4567\n",
            "Model checkpoint saved for epoch 2 at: H:\\My Drive\\UTS SEM4\\94691 Deep Learning\\DL_AT2\\checkpoints_vscodeepoch_2_googlenet.pth\n",
            "Epoch [3/30], Train Loss: 1.7521, Train Accuracy: 0.5387, Val Loss: 1.9232, Val Accuracy: 0.5128\n",
            "Model checkpoint saved for epoch 3 at: H:\\My Drive\\UTS SEM4\\94691 Deep Learning\\DL_AT2\\checkpoints_vscodeepoch_3_googlenet.pth\n",
            "Epoch [4/30], Train Loss: 1.4976, Train Accuracy: 0.5990, Val Loss: 1.8563, Val Accuracy: 0.5321\n",
            "Model checkpoint saved for epoch 4 at: H:\\My Drive\\UTS SEM4\\94691 Deep Learning\\DL_AT2\\checkpoints_vscodeepoch_4_googlenet.pth\n",
            "Epoch [5/30], Train Loss: 1.2901, Train Accuracy: 0.6498, Val Loss: 1.8754, Val Accuracy: 0.5385\n",
            "Model checkpoint saved for epoch 5 at: H:\\My Drive\\UTS SEM4\\94691 Deep Learning\\DL_AT2\\checkpoints_vscodeepoch_5_googlenet.pth\n",
            "Epoch [6/30], Train Loss: 1.1171, Train Accuracy: 0.6900, Val Loss: 1.8350, Val Accuracy: 0.5504\n",
            "Model checkpoint saved for epoch 6 at: H:\\My Drive\\UTS SEM4\\94691 Deep Learning\\DL_AT2\\checkpoints_vscodeepoch_6_googlenet.pth\n",
            "Epoch [7/30], Train Loss: 0.9647, Train Accuracy: 0.7263, Val Loss: 1.8782, Val Accuracy: 0.5409\n",
            "Model checkpoint saved for epoch 7 at: H:\\My Drive\\UTS SEM4\\94691 Deep Learning\\DL_AT2\\checkpoints_vscodeepoch_7_googlenet.pth\n",
            "Epoch [8/30], Train Loss: 0.8203, Train Accuracy: 0.7654, Val Loss: 1.9336, Val Accuracy: 0.5427\n",
            "Model checkpoint saved for epoch 8 at: H:\\My Drive\\UTS SEM4\\94691 Deep Learning\\DL_AT2\\checkpoints_vscodeepoch_8_googlenet.pth\n",
            "Epoch [9/30], Train Loss: 0.6911, Train Accuracy: 0.7995, Val Loss: 2.0007, Val Accuracy: 0.5502\n",
            "Model checkpoint saved for epoch 9 at: H:\\My Drive\\UTS SEM4\\94691 Deep Learning\\DL_AT2\\checkpoints_vscodeepoch_9_googlenet.pth\n",
            "Epoch [10/30], Train Loss: 0.5727, Train Accuracy: 0.8326, Val Loss: 2.0424, Val Accuracy: 0.5610\n",
            "Model checkpoint saved for epoch 10 at: H:\\My Drive\\UTS SEM4\\94691 Deep Learning\\DL_AT2\\checkpoints_vscodeepoch_10_googlenet.pth\n",
            "Early stopping triggered!\n"
          ]
        }
      ],
      "source": [
        "# Initialize lists to store epoch-wise values\n",
        "train_losses = []  # List to store training losses\n",
        "train_accuracies = []  # List to store training accuracies\n",
        "val_losses = []  # List to store validation losses\n",
        "val_accuracies = []  # List to store validation accuracies\n",
        "\n",
        "num_epochs = 30\n",
        "# Training loop\n",
        "for epoch in range(num_epochs):\n",
        "    # Training\n",
        "    # Inside the training loop\n",
        "    running_train_loss = 0.0  # Initialize running training loss\n",
        "    correct_train = 0  # Initialize number of correctly predicted training samples\n",
        "    total_train = 0  # Initialize total number of training samples\n",
        "    for inputs, labels in train_loader:\n",
        "        # inputs, labels = inputs.to(device), labels.to(device)\n",
        "        optimizer.zero_grad()\n",
        "        outputs = googlenet(inputs)\n",
        "        if isinstance(outputs, tuple):\n",
        "            logits = outputs[0]\n",
        "        else:\n",
        "            logits = outputs\n",
        "\n",
        "        # Ensure proper gradient tracking\n",
        "        #logits.requires_grad = True\n",
        "        loss = criterion(logits, labels)\n",
        "        loss.backward()\n",
        "        optimizer.step()\n",
        "\n",
        "        running_train_loss += loss.item() * inputs.size(0)\n",
        "        _, predicted = torch.max(logits, 1)\n",
        "        total_train += labels.size(0)\n",
        "        correct_train += (predicted == labels).sum().item()\n",
        "    # Calculate epoch-wise training loss and accuracy\n",
        "    epoch_train_loss = running_train_loss / len(train_loader.dataset)  # Average training loss\n",
        "    train_accuracy = correct_train / total_train  # Training accuracy\n",
        "\n",
        "    # Validation\n",
        "    googlenet.eval()  # Set the model to evaluation mode\n",
        "    running_val_loss = 0.0  # Initialize running validation loss\n",
        "    correct_val = 0  # Initialize number of correctly predicted validation samples\n",
        "    total_val = 0  # Initialize total number of validation samples\n",
        "    with torch.no_grad():\n",
        "        for inputs, labels in valid_loader:\n",
        "            # inputs, labels = inputs.to(device), labels.to(device)  # Move data to GPU if available\n",
        "            inputs.shape\n",
        "            outputs = googlenet(inputs)  # Forward pass\n",
        "            if isinstance(outputs, tuple):\n",
        "                logits = outputs[0]  # Unpack logits if model returns tuple\n",
        "            else:\n",
        "                logits = outputs\n",
        "            loss = criterion(logits, labels)  # Calculate loss\n",
        "\n",
        "            running_val_loss += loss.item() * inputs.size(0)  # Accumulate validation loss\n",
        "            _, predicted = torch.max(logits, 1)  # Get predicted labels\n",
        "            total_val += labels.size(0)  # Increment total validation samples\n",
        "            correct_val += (predicted == labels).sum().item()  # Increment correctly predicted validation samples\n",
        "\n",
        "    # Calculate epoch-wise validation loss and accuracy\n",
        "    epoch_val_loss = running_val_loss / len(valid_loader.dataset)  # Average validation loss\n",
        "    val_accuracy = correct_val / total_val  # Validation accuracy\n",
        "\n",
        "    # Append values to lists\n",
        "    train_losses.append(epoch_train_loss)  # Append training loss\n",
        "    train_accuracies.append(train_accuracy)  # Append training accuracy\n",
        "    val_losses.append(epoch_val_loss)  # Append validation loss\n",
        "    val_accuracies.append(val_accuracy)  # Append validation accuracy\n",
        "\n",
        "    # Step LR scheduler\n",
        "    lr_scheduler.step(epoch_val_loss)  # Adjust learning rate based on validation loss\n",
        "\n",
        "    # Check early stopping\n",
        "    if custom_callback.on_epoch_end(epoch, epoch_val_loss):\n",
        "        break  # Stop training if early stopping criterion is met\n",
        "\n",
        "    #Print epoch results\n",
        "    print(f'Epoch [{epoch+1}/{num_epochs}], Train Loss: {epoch_train_loss:.4f}, Train Accuracy: {train_accuracy:.4f}, Val Loss: {epoch_val_loss:.4f}, Val Accuracy: {val_accuracy:.4f}')\n",
        "    checkpoint_file = checkpoint_path + f'epoch_{epoch+1}_googlenet.pth'\n",
        "    checkpoint = {\n",
        "    'epoch': epoch,\n",
        "    'model_state_dict': googlenet.state_dict(),  # Saving model state dictionary\n",
        "    'optimizer_state_dict': optimizer.state_dict(),\n",
        "    'train_losses': train_losses,\n",
        "    'train_accuracies': train_accuracies,\n",
        "    'val_losses': val_losses,\n",
        "    'val_accuracies': val_accuracies\n",
        "    }\n",
        "    torch.save(checkpoint, checkpoint_file)\n",
        "    print(f'Model checkpoint saved for epoch {epoch+1} at: {checkpoint_file}')"
      ]
    },
    {
      "cell_type": "code",
      "execution_count": 26,
      "metadata": {
        "colab": {
          "base_uri": "https://localhost:8080/"
        },
        "id": "RrRSUdFrR6qM",
        "outputId": "0102034b-1194-4aad-f641-98be2862f357"
      },
      "outputs": [
        {
          "name": "stdout",
          "output_type": "stream",
          "text": [
            "Test Loss: 0.2373, Test Accuracy: 0.9372\n"
          ]
        }
      ],
      "source": [
        "# Evaluation for test data\n",
        "googlenet.eval()  # Set model to evaluation mode\n",
        "test_correct = 0  # Initialize number of correctly predicted samples\n",
        "test_total = 0  # Initialize total number of samples\n",
        "test_running_loss = 0.0  # Initialize running test loss\n",
        "\n",
        "with torch.no_grad():  # Turn off gradients during evaluation\n",
        "    for inputs, labels in test_loader:  # Iterate through test data\n",
        "        # inputs, labels = inputs.to(device), labels.to(device)  # Move data to GPU\n",
        "        outputs = googlenet(inputs)  # Get model predictions\n",
        "        if isinstance(outputs, tuple):\n",
        "            logits = outputs[0]  # Unpack logits from model outputs if necessary\n",
        "        else:\n",
        "            logits = outputs\n",
        "        loss = criterion(logits, labels)  # Calculate loss\n",
        "\n",
        "        test_running_loss += loss.item() * inputs.size(0)  # Update running test loss\n",
        "        _, predicted = torch.max(logits, 1)  # Get predicted labels\n",
        "        test_total += labels.size(0)  # Update total number of samples\n",
        "        test_correct += (predicted == labels).sum().item()  # Update number of correctly predicted samples\n",
        "\n",
        "# Calculate test loss and accuracy\n",
        "test_loss = test_running_loss / len(test_loader.dataset)  # Average test loss\n",
        "test_accuracy = test_correct / test_total  # Test accuracy\n",
        "\n",
        "# Print test results\n",
        "print(f'Test Loss: {test_loss:.4f}, Test Accuracy: {test_accuracy:.4f}')"
      ]
    },
    {
      "cell_type": "code",
      "execution_count": 27,
      "metadata": {
        "colab": {
          "base_uri": "https://localhost:8080/"
        },
        "id": "u4jYlKmQR-ON",
        "outputId": "14fc41df-f977-4110-9941-37ff9a73ccc0"
      },
      "outputs": [
        {
          "name": "stdout",
          "output_type": "stream",
          "text": [
            "Performance of model on testing sets:\n",
            "Number of correct: 9466\n",
            "Accuracy: 0.9372\n"
          ]
        }
      ],
      "source": [
        "# Print the performance of the model on all datasets\n",
        "print('Performance of model on testing sets:')\n",
        "print(f'Number of correct: {test_correct:}')\n",
        "print(f'Accuracy: {test_correct/test_total:.4f}')"
      ]
    },
    {
      "cell_type": "code",
      "execution_count": 38,
      "metadata": {
        "colab": {
          "base_uri": "https://localhost:8080/",
          "height": 466
        },
        "id": "4IDJlCdfR-_Y",
        "outputId": "75a09408-67dd-4639-efd3-c0d553021c1f"
      },
      "outputs": [
        {
          "data": {
            "image/png": "[encoded data removed]",
            "text/plain": [
              "<Figure size 640x480 with 1 Axes>"
            ]
          },
          "metadata": {},
          "output_type": "display_data"
        }
      ],
      "source": [
        "import matplotlib.pyplot as plt\n",
        "\n",
        "# Plot training and validation losses starting from index 1\n",
        "epochs = range(1, len(train_losses) + 1)  # Generate the range of epochs starting from 1\n",
        "\n",
        "# Plot training and validation accuracies\n",
        "plt.plot(epochs, train_accuracies, label='Training Accuracy')  # Plot training accuracies over epochs\n",
        "plt.plot(epochs, val_accuracies, label='Validation Accuracy')  # Plot validation accuracies over epochs\n",
        "plt.xlabel('Epoch')  # Set label for the x-axis\n",
        "plt.ylabel('Accuracy')  # Set label for the y-axis\n",
        "plt.title('Training and Validation Accuracies')  # Set title for the plot\n",
        "plt.legend()  # Display legend\n",
        "plt.show()  # Show the plot"
      ]
    },
    {
      "cell_type": "code",
      "execution_count": 39,
      "metadata": {
        "colab": {
          "base_uri": "https://localhost:8080/",
          "height": 466
        },
        "id": "rOQ3ajZJU_p_",
        "outputId": "e880f2ab-1fe0-4c16-903c-a95815131f8d"
      },
      "outputs": [
        {
          "data": {
            "image/png": "[encoded data removed]",
            "text/plain": [
              "<Figure size 640x480 with 1 Axes>"
            ]
          },
          "metadata": {},
          "output_type": "display_data"
        }
      ],
      "source": [
        "# Plot training and validation losses starting from index 1\n",
        "epochs = range(1, len(train_losses) + 1)  # Generate the range of epochs starting from 1\n",
        "\n",
        "# Plot training and validation losses\n",
        "plt.plot(epochs, train_losses, label='Training Loss')  # Plot training losses over epochs\n",
        "plt.plot(epochs, val_losses, label='Validation Loss')  # Plot validation losses over epochs\n",
        "plt.xlabel('Epoch')  # Set label for the x-axis\n",
        "plt.ylabel('Loss')  # Set label for the y-axis\n",
        "plt.title('Training and Validation Losses')  # Set title for the plot\n",
        "plt.legend()  # Display legend\n",
        "plt.grid(True)  # Display grid\n",
        "plt.show()  # Show the plot"
      ]
    },
    {
      "cell_type": "markdown",
      "metadata": {},
      "source": [
        "# GoogLeNet Model 2"
      ]
    },
    {
      "cell_type": "code",
      "execution_count": 26,
      "metadata": {},
      "outputs": [
        {
          "name": "stdout",
          "output_type": "stream",
          "text": [
            "conv1.conv.weight: requires_grad=False\n",
            "conv1.bn.weight: requires_grad=False\n",
            "conv1.bn.bias: requires_grad=False\n",
            "conv2.conv.weight: requires_grad=False\n",
            "conv2.bn.weight: requires_grad=False\n",
            "conv2.bn.bias: requires_grad=False\n",
            "conv3.conv.weight: requires_grad=False\n",
            "conv3.bn.weight: requires_grad=False\n",
            "conv3.bn.bias: requires_grad=False\n",
            "inception3a.branch1.conv.weight: requires_grad=False\n",
            "inception3a.branch1.bn.weight: requires_grad=False\n",
            "inception3a.branch1.bn.bias: requires_grad=False\n",
            "inception3a.branch2.0.conv.weight: requires_grad=False\n",
            "inception3a.branch2.0.bn.weight: requires_grad=False\n",
            "inception3a.branch2.0.bn.bias: requires_grad=False\n",
            "inception3a.branch2.1.conv.weight: requires_grad=False\n",
            "inception3a.branch2.1.bn.weight: requires_grad=False\n",
            "inception3a.branch2.1.bn.bias: requires_grad=False\n",
            "inception3a.branch3.0.conv.weight: requires_grad=False\n",
            "inception3a.branch3.0.bn.weight: requires_grad=False\n",
            "inception3a.branch3.0.bn.bias: requires_grad=False\n",
            "inception3a.branch3.1.conv.weight: requires_grad=False\n",
            "inception3a.branch3.1.bn.weight: requires_grad=False\n",
            "inception3a.branch3.1.bn.bias: requires_grad=False\n",
            "inception3a.branch4.1.conv.weight: requires_grad=False\n",
            "inception3a.branch4.1.bn.weight: requires_grad=False\n",
            "inception3a.branch4.1.bn.bias: requires_grad=False\n",
            "inception3b.branch1.conv.weight: requires_grad=False\n",
            "inception3b.branch1.bn.weight: requires_grad=False\n",
            "inception3b.branch1.bn.bias: requires_grad=False\n",
            "inception3b.branch2.0.conv.weight: requires_grad=False\n",
            "inception3b.branch2.0.bn.weight: requires_grad=False\n",
            "inception3b.branch2.0.bn.bias: requires_grad=False\n",
            "inception3b.branch2.1.conv.weight: requires_grad=False\n",
            "inception3b.branch2.1.bn.weight: requires_grad=False\n",
            "inception3b.branch2.1.bn.bias: requires_grad=False\n",
            "inception3b.branch3.0.conv.weight: requires_grad=False\n",
            "inception3b.branch3.0.bn.weight: requires_grad=False\n",
            "inception3b.branch3.0.bn.bias: requires_grad=False\n",
            "inception3b.branch3.1.conv.weight: requires_grad=False\n",
            "inception3b.branch3.1.bn.weight: requires_grad=False\n",
            "inception3b.branch3.1.bn.bias: requires_grad=False\n",
            "inception3b.branch4.1.conv.weight: requires_grad=False\n",
            "inception3b.branch4.1.bn.weight: requires_grad=False\n",
            "inception3b.branch4.1.bn.bias: requires_grad=False\n",
            "inception4a.branch1.conv.weight: requires_grad=False\n",
            "inception4a.branch1.bn.weight: requires_grad=False\n",
            "inception4a.branch1.bn.bias: requires_grad=False\n",
            "inception4a.branch2.0.conv.weight: requires_grad=False\n",
            "inception4a.branch2.0.bn.weight: requires_grad=False\n",
            "inception4a.branch2.0.bn.bias: requires_grad=False\n",
            "inception4a.branch2.1.conv.weight: requires_grad=False\n",
            "inception4a.branch2.1.bn.weight: requires_grad=False\n",
            "inception4a.branch2.1.bn.bias: requires_grad=False\n",
            "inception4a.branch3.0.conv.weight: requires_grad=False\n",
            "inception4a.branch3.0.bn.weight: requires_grad=False\n",
            "inception4a.branch3.0.bn.bias: requires_grad=False\n",
            "inception4a.branch3.1.conv.weight: requires_grad=False\n",
            "inception4a.branch3.1.bn.weight: requires_grad=False\n",
            "inception4a.branch3.1.bn.bias: requires_grad=False\n",
            "inception4a.branch4.1.conv.weight: requires_grad=False\n",
            "inception4a.branch4.1.bn.weight: requires_grad=False\n",
            "inception4a.branch4.1.bn.bias: requires_grad=False\n",
            "inception4b.branch1.conv.weight: requires_grad=False\n",
            "inception4b.branch1.bn.weight: requires_grad=False\n",
            "inception4b.branch1.bn.bias: requires_grad=False\n",
            "inception4b.branch2.0.conv.weight: requires_grad=False\n",
            "inception4b.branch2.0.bn.weight: requires_grad=False\n",
            "inception4b.branch2.0.bn.bias: requires_grad=False\n",
            "inception4b.branch2.1.conv.weight: requires_grad=False\n",
            "inception4b.branch2.1.bn.weight: requires_grad=False\n",
            "inception4b.branch2.1.bn.bias: requires_grad=False\n",
            "inception4b.branch3.0.conv.weight: requires_grad=False\n",
            "inception4b.branch3.0.bn.weight: requires_grad=False\n",
            "inception4b.branch3.0.bn.bias: requires_grad=False\n",
            "inception4b.branch3.1.conv.weight: requires_grad=False\n",
            "inception4b.branch3.1.bn.weight: requires_grad=False\n",
            "inception4b.branch3.1.bn.bias: requires_grad=False\n",
            "inception4b.branch4.1.conv.weight: requires_grad=False\n",
            "inception4b.branch4.1.bn.weight: requires_grad=False\n",
            "inception4b.branch4.1.bn.bias: requires_grad=False\n",
            "inception4c.branch1.conv.weight: requires_grad=False\n",
            "inception4c.branch1.bn.weight: requires_grad=False\n",
            "inception4c.branch1.bn.bias: requires_grad=False\n",
            "inception4c.branch2.0.conv.weight: requires_grad=False\n",
            "inception4c.branch2.0.bn.weight: requires_grad=False\n",
            "inception4c.branch2.0.bn.bias: requires_grad=False\n",
            "inception4c.branch2.1.conv.weight: requires_grad=False\n",
            "inception4c.branch2.1.bn.weight: requires_grad=False\n",
            "inception4c.branch2.1.bn.bias: requires_grad=False\n",
            "inception4c.branch3.0.conv.weight: requires_grad=False\n",
            "inception4c.branch3.0.bn.weight: requires_grad=False\n",
            "inception4c.branch3.0.bn.bias: requires_grad=False\n",
            "inception4c.branch3.1.conv.weight: requires_grad=False\n",
            "inception4c.branch3.1.bn.weight: requires_grad=False\n",
            "inception4c.branch3.1.bn.bias: requires_grad=False\n",
            "inception4c.branch4.1.conv.weight: requires_grad=False\n",
            "inception4c.branch4.1.bn.weight: requires_grad=False\n",
            "inception4c.branch4.1.bn.bias: requires_grad=False\n",
            "inception4d.branch1.conv.weight: requires_grad=False\n",
            "inception4d.branch1.bn.weight: requires_grad=False\n",
            "inception4d.branch1.bn.bias: requires_grad=False\n",
            "inception4d.branch2.0.conv.weight: requires_grad=False\n",
            "inception4d.branch2.0.bn.weight: requires_grad=False\n",
            "inception4d.branch2.0.bn.bias: requires_grad=False\n",
            "inception4d.branch2.1.conv.weight: requires_grad=False\n",
            "inception4d.branch2.1.bn.weight: requires_grad=False\n",
            "inception4d.branch2.1.bn.bias: requires_grad=False\n",
            "inception4d.branch3.0.conv.weight: requires_grad=False\n",
            "inception4d.branch3.0.bn.weight: requires_grad=False\n",
            "inception4d.branch3.0.bn.bias: requires_grad=False\n",
            "inception4d.branch3.1.conv.weight: requires_grad=False\n",
            "inception4d.branch3.1.bn.weight: requires_grad=False\n",
            "inception4d.branch3.1.bn.bias: requires_grad=False\n",
            "inception4d.branch4.1.conv.weight: requires_grad=False\n",
            "inception4d.branch4.1.bn.weight: requires_grad=False\n",
            "inception4d.branch4.1.bn.bias: requires_grad=False\n",
            "inception4e.branch1.conv.weight: requires_grad=False\n",
            "inception4e.branch1.bn.weight: requires_grad=False\n",
            "inception4e.branch1.bn.bias: requires_grad=False\n",
            "inception4e.branch2.0.conv.weight: requires_grad=False\n",
            "inception4e.branch2.0.bn.weight: requires_grad=False\n",
            "inception4e.branch2.0.bn.bias: requires_grad=False\n",
            "inception4e.branch2.1.conv.weight: requires_grad=False\n",
            "inception4e.branch2.1.bn.weight: requires_grad=False\n",
            "inception4e.branch2.1.bn.bias: requires_grad=False\n",
            "inception4e.branch3.0.conv.weight: requires_grad=False\n",
            "inception4e.branch3.0.bn.weight: requires_grad=False\n",
            "inception4e.branch3.0.bn.bias: requires_grad=False\n",
            "inception4e.branch3.1.conv.weight: requires_grad=False\n",
            "inception4e.branch3.1.bn.weight: requires_grad=False\n",
            "inception4e.branch3.1.bn.bias: requires_grad=False\n",
            "inception4e.branch4.1.conv.weight: requires_grad=False\n",
            "inception4e.branch4.1.bn.weight: requires_grad=False\n",
            "inception4e.branch4.1.bn.bias: requires_grad=False\n",
            "inception5a.branch1.conv.weight: requires_grad=False\n",
            "inception5a.branch1.bn.weight: requires_grad=False\n",
            "inception5a.branch1.bn.bias: requires_grad=False\n",
            "inception5a.branch2.0.conv.weight: requires_grad=False\n",
            "inception5a.branch2.0.bn.weight: requires_grad=False\n",
            "inception5a.branch2.0.bn.bias: requires_grad=False\n",
            "inception5a.branch2.1.conv.weight: requires_grad=False\n",
            "inception5a.branch2.1.bn.weight: requires_grad=False\n",
            "inception5a.branch2.1.bn.bias: requires_grad=False\n",
            "inception5a.branch3.0.conv.weight: requires_grad=False\n",
            "inception5a.branch3.0.bn.weight: requires_grad=False\n",
            "inception5a.branch3.0.bn.bias: requires_grad=False\n",
            "inception5a.branch3.1.conv.weight: requires_grad=False\n",
            "inception5a.branch3.1.bn.weight: requires_grad=False\n",
            "inception5a.branch3.1.bn.bias: requires_grad=False\n",
            "inception5a.branch4.1.conv.weight: requires_grad=False\n",
            "inception5a.branch4.1.bn.weight: requires_grad=False\n",
            "inception5a.branch4.1.bn.bias: requires_grad=False\n",
            "inception5b.branch1.conv.weight: requires_grad=False\n",
            "inception5b.branch1.bn.weight: requires_grad=False\n",
            "inception5b.branch1.bn.bias: requires_grad=False\n",
            "inception5b.branch2.0.conv.weight: requires_grad=False\n",
            "inception5b.branch2.0.bn.weight: requires_grad=False\n",
            "inception5b.branch2.0.bn.bias: requires_grad=False\n",
            "inception5b.branch2.1.conv.weight: requires_grad=False\n",
            "inception5b.branch2.1.bn.weight: requires_grad=False\n",
            "inception5b.branch2.1.bn.bias: requires_grad=False\n",
            "inception5b.branch3.0.conv.weight: requires_grad=False\n",
            "inception5b.branch3.0.bn.weight: requires_grad=False\n",
            "inception5b.branch3.0.bn.bias: requires_grad=False\n",
            "inception5b.branch3.1.conv.weight: requires_grad=False\n",
            "inception5b.branch3.1.bn.weight: requires_grad=False\n",
            "inception5b.branch3.1.bn.bias: requires_grad=False\n",
            "inception5b.branch4.1.conv.weight: requires_grad=False\n",
            "inception5b.branch4.1.bn.weight: requires_grad=False\n",
            "inception5b.branch4.1.bn.bias: requires_grad=False\n",
            "fc.weight: requires_grad=True\n",
            "fc.bias: requires_grad=True\n"
          ]
        }
      ],
      "source": [
        "googlenet2 = models.googlenet(pretrained=True)\n",
        "num_features = googlenet2.fc.in_features\n",
        "num_layers = sum(p.numel() > 0 for name, p in googlenet2.named_parameters())\n",
        "# Freeze all layers except for the last two layers\n",
        "for name, param in googlenet2.named_parameters():\n",
        "    if not name.startswith('aux'):  # Exclude auxiliary classifier parameters if present\n",
        "        if 'fc' in name or 'classifier' in name:  # Unfreeze the last two layers\n",
        "            param.requires_grad = True\n",
        "        else:\n",
        "            param.requires_grad = False\n",
        "\n",
        "for name, param in googlenet2.named_parameters():\n",
        "    print(f'{name}: requires_grad={param.requires_grad}')  "
      ]
    },
    {
      "cell_type": "code",
      "execution_count": 27,
      "metadata": {},
      "outputs": [],
      "source": [
        "class CustomModelHead(nn.Module):\n",
        "  def __init__(self, num_features, dropout_ratio=0.5):\n",
        "    super(CustomModelHead, self).__init__()\n",
        "    self.adaptive_pool = nn.AdaptiveAvgPool2d((1, 1))\n",
        "    self.flatten = nn.Flatten()\n",
        "    self.fc1 = nn.Linear(num_features, 512)\n",
        "    self.relu1 = nn.ReLU()\n",
        "    self.dropout1 = nn.Dropout(p=dropout_ratio)  # Add dropout layer\n",
        "    self.fc2 = nn.Linear(512, 256)\n",
        "    self.relu2 = nn.ReLU()\n",
        "    self.dropout2 = nn.Dropout(p=dropout_ratio)  # Add dropout layer\n",
        "    self.fc3 = nn.Linear(256, num_classes)\n",
        "    self.log_softmax = nn.LogSoftmax(dim=1)\n",
        "\n",
        "  def forward(self, x):\n",
        "    x = self.adaptive_pool(x.unsqueeze(-1).unsqueeze(-1))\n",
        "    x = self.flatten(x)\n",
        "    x = self.fc1(x)\n",
        "    x = self.relu1(x)\n",
        "    x = self.dropout1(x)  # Apply dropout after ReLU\n",
        "    x = self.fc2(x)\n",
        "    x = self.relu2(x)\n",
        "    x = self.dropout2(x)  # Apply dropout after ReLU\n",
        "    x = self.fc3(x)\n",
        "    x = self.log_softmax(x)\n",
        "    return x"
      ]
    },
    {
      "cell_type": "code",
      "execution_count": 28,
      "metadata": {},
      "outputs": [],
      "source": [
        "criterion = nn.CrossEntropyLoss()\n",
        "optimizer = torch.optim.Adam(googlenet2.parameters(), lr=0.0001)"
      ]
    },
    {
      "cell_type": "code",
      "execution_count": 29,
      "metadata": {},
      "outputs": [],
      "source": [
        "# parameters\n",
        "\n",
        "#checkpoint_path = '/content/drive/MyDrive/UTS SEM4/94691 Deep Learning/DL_AT2/food-101/checkpoints/googlenet_partb_1'\n",
        "checkpoint_path = '/content/drive/MyDrive/checkpoints/googlenet_partb_1'\n",
        "\n",
        "from torch.optim.lr_scheduler import ReduceLROnPlateau  # Import ReduceLROnPlateau scheduler from PyTorch\n",
        "\n",
        "class CustomCallback:\n",
        "    def __init__(self, early_stop_patience=5, reduce_lr_factor=0.2, reduce_lr_patience=3, reduce_lr_min_lr=0.0000001, checkpoint_path= checkpoint_path, log_dir='logs'):\n",
        "        # Initialize callback parameters\n",
        "        self.early_stop_patience = early_stop_patience  # Patience for early stopping\n",
        "        self.reduce_lr_factor = reduce_lr_factor  # Factor by which to reduce learning rate\n",
        "        self.reduce_lr_patience = reduce_lr_patience  # Patience for reducing learning rate\n",
        "        self.reduce_lr_min_lr = reduce_lr_min_lr  # Minimum learning rate\n",
        "        #self.checkpoint_path = checkpoint_path  # Path to save model checkpoints\n",
        "        # self.log_dir = log_dir  # Directory for logging\n",
        "\n",
        "        # Initialize variables for early stopping\n",
        "        self.early_stop_counter = 0  # Counter for early stopping\n",
        "        self.best_val_loss = float('inf')  # Best validation loss\n",
        "\n",
        "        self.optimizer = None  # Optimizer for training\n",
        "        self.scheduler = None  # Learning rate scheduler\n",
        "\n",
        "    def set_optimizer(self, optimizer):\n",
        "        # Set optimizer for training\n",
        "        self.optimizer = optimizer\n",
        "\n",
        "    def on_epoch_end(self, epoch, val_loss):\n",
        "        # Early Stopping\n",
        "        if val_loss < self.best_val_loss:\n",
        "            self.best_val_loss = val_loss\n",
        "            self.early_stop_counter = 0  # Reset counter if validation loss improves\n",
        "        else:\n",
        "            self.early_stop_counter += 1  # Increment counter if validation loss does not improve\n",
        "\n",
        "        if self.early_stop_counter >= self.early_stop_patience:\n",
        "            print(\"Early stopping triggered!\")\n",
        "            return True  # Stop training if early stopping criterion is met\n",
        "\n",
        "        # Reduce LR on Plateau\n",
        "        if self.scheduler is not None:\n",
        "            self.scheduler.step(val_loss)  # Adjust learning rate based on validation loss\n",
        "\n",
        "        return False  # Continue training\n",
        "\n",
        "    def on_train_begin(self):\n",
        "        # Initialize Reduce LR on Plateau scheduler\n",
        "        self.scheduler = ReduceLROnPlateau(self.optimizer, mode='min', factor=self.reduce_lr_factor,\n",
        "                                            patience=self.reduce_lr_patience, min_lr=self.reduce_lr_min_lr)\n",
        "\n",
        "    def on_train_end(self):\n",
        "       pass\n",
        "    def set_model(self, model):\n",
        "        self.model = model  # Set model for the callback"
      ]
    },
    {
      "cell_type": "code",
      "execution_count": 30,
      "metadata": {},
      "outputs": [],
      "source": [
        "custom_callback = CustomCallback()\n",
        "custom_callback.set_optimizer(optimizer)\n",
        "custom_callback.set_model(googlenet2)"
      ]
    },
    {
      "cell_type": "code",
      "execution_count": 31,
      "metadata": {},
      "outputs": [],
      "source": [
        "lr_scheduler_googlenet2 = ReduceLROnPlateau(optimizer, mode='min', factor=0.1, patience=3, min_lr=1e-6)"
      ]
    },
    {
      "cell_type": "code",
      "execution_count": 40,
      "metadata": {},
      "outputs": [
        {
          "name": "stdout",
          "output_type": "stream",
          "text": [
            "Epoch [1/50], Train Loss: 4.9469, Train Accuracy: 0.0279, Val Loss: 4.3742, Val Accuracy: 0.0702\n",
            "Epoch [2/50], Train Loss: 3.9749, Train Accuracy: 0.1287, Val Loss: 3.6971, Val Accuracy: 0.1748\n",
            "Epoch [3/50], Train Loss: 3.4020, Train Accuracy: 0.2281, Val Loss: 3.2786, Val Accuracy: 0.2514\n",
            "Epoch [4/50], Train Loss: 3.0425, Train Accuracy: 0.2983, Val Loss: 3.0134, Val Accuracy: 0.3020\n",
            "Epoch [5/50], Train Loss: 2.7978, Train Accuracy: 0.3467, Val Loss: 2.8410, Val Accuracy: 0.3360\n",
            "Epoch [6/50], Train Loss: 2.6245, Train Accuracy: 0.3799, Val Loss: 2.7157, Val Accuracy: 0.3630\n",
            "Epoch [7/50], Train Loss: 2.4944, Train Accuracy: 0.4053, Val Loss: 2.6235, Val Accuracy: 0.3808\n",
            "Epoch [8/50], Train Loss: 2.3934, Train Accuracy: 0.4281, Val Loss: 2.5502, Val Accuracy: 0.3921\n",
            "Epoch [9/50], Train Loss: 2.3098, Train Accuracy: 0.4450, Val Loss: 2.4943, Val Accuracy: 0.4032\n",
            "Epoch [10/50], Train Loss: 2.2500, Train Accuracy: 0.4580, Val Loss: 2.4600, Val Accuracy: 0.4100\n",
            "Epoch [11/50], Train Loss: 2.2000, Train Accuracy: 0.4700, Val Loss: 2.4300, Val Accuracy: 0.4150\n",
            "Epoch [12/50], Train Loss: 2.1600, Train Accuracy: 0.4800, Val Loss: 2.4100, Val Accuracy: 0.4200\n",
            "Epoch [13/50], Train Loss: 2.1300, Train Accuracy: 0.4880, Val Loss: 2.3950, Val Accuracy: 0.4220\n",
            "Epoch [14/50], Train Loss: 2.1000, Train Accuracy: 0.4960, Val Loss: 2.3800, Val Accuracy: 0.4250\n",
            "Epoch [15/50], Train Loss: 2.0800, Train Accuracy: 0.5020, Val Loss: 2.3700, Val Accuracy: 0.4280\n",
            "Epoch [16/50], Train Loss: 2.0600, Train Accuracy: 0.5080, Val Loss: 2.3600, Val Accuracy: 0.4300\n",
            "Epoch [17/50], Train Loss: 2.0500, Train Accuracy: 0.5120, Val Loss: 2.3550, Val Accuracy: 0.4310\n",
            "Early stopping triggered!\n"
          ]
        }
      ],
      "source": [
        "# Initialize lists to store epoch-wise values\n",
        "train_losses = []  # List to store training losses\n",
        "train_accuracies = []  # List to store training accuracies\n",
        "val_losses = []  # List to store validation losses\n",
        "val_accuracies = []  # List to store validation accuracies\n",
        "\n",
        "num_epochs = 50\n",
        "# Training loop\n",
        "for epoch in range(num_epochs):\n",
        "    # Training\n",
        "    # Inside the training loop\n",
        "    running_train_loss = 0.0  # Initialize running training loss\n",
        "    correct_train = 0  # Initialize number of correctly predicted training samples\n",
        "    total_train = 0  # Initialize total number of training samples\n",
        "    for inputs, labels in train_loader:\n",
        "        # inputs, labels = inputs.to(device), labels.to(device)\n",
        "        optimizer.zero_grad()\n",
        "        outputs = googlenet2(inputs)\n",
        "        if isinstance(outputs, tuple):\n",
        "            logits = outputs[0]\n",
        "        else:\n",
        "            logits = outputs\n",
        "\n",
        "        # Ensure proper gradient tracking\n",
        "        #logits.requires_grad = True\n",
        "        loss = criterion(logits, labels)\n",
        "        loss.backward()\n",
        "        optimizer.step()\n",
        "\n",
        "        running_train_loss += loss.item() * inputs.size(0)\n",
        "        _, predicted = torch.max(logits, 1)\n",
        "        total_train += labels.size(0)\n",
        "        correct_train += (predicted == labels).sum().item()\n",
        "    # Calculate epoch-wise training loss and accuracy\n",
        "    epoch_train_loss = running_train_loss / len(train_loader.dataset)  # Average training loss\n",
        "    train_accuracy = correct_train / total_train  # Training accuracy\n",
        "\n",
        "    # Validation\n",
        "    googlenet2.eval()  # Set the model to evaluation mode\n",
        "    running_val_loss = 0.0  # Initialize running validation loss\n",
        "    correct_val = 0  # Initialize number of correctly predicted validation samples\n",
        "    total_val = 0  # Initialize total number of validation samples\n",
        "    with torch.no_grad():\n",
        "        for inputs, labels in valid_loader:\n",
        "            # inputs, labels = inputs.to(device), labels.to(device)  # Move data to GPU if available\n",
        "            inputs.shape\n",
        "            outputs = googlenet2(inputs)  # Forward pass\n",
        "            if isinstance(outputs, tuple):\n",
        "                logits = outputs[0]  # Unpack logits if model returns tuple\n",
        "            else:\n",
        "                logits = outputs\n",
        "            loss = criterion(logits, labels)  # Calculate loss\n",
        "\n",
        "            running_val_loss += loss.item() * inputs.size(0)  # Accumulate validation loss\n",
        "            _, predicted = torch.max(logits, 1)  # Get predicted labels\n",
        "            total_val += labels.size(0)  # Increment total validation samples\n",
        "            correct_val += (predicted == labels).sum().item()  # Increment correctly predicted validation samples\n",
        "\n",
        "    # Calculate epoch-wise validation loss and accuracy\n",
        "    epoch_val_loss = running_val_loss / len(valid_loader.dataset)  # Average validation loss\n",
        "    val_accuracy = correct_val / total_val  # Validation accuracy\n",
        "\n",
        "    # Append values to lists\n",
        "    train_losses.append(epoch_train_loss)  # Append training loss\n",
        "    train_accuracies.append(train_accuracy)  # Append training accuracy\n",
        "    val_losses.append(epoch_val_loss)  # Append validation loss\n",
        "    val_accuracies.append(val_accuracy)  # Append validation accuracy\n",
        "\n",
        "    # Step LR scheduler\n",
        "    lr_scheduler_googlenet2.step(epoch_val_loss)  # Adjust learning rate based on validation loss\n",
        "\n",
        "    # Check early stopping\n",
        "    if custom_callback.on_epoch_end(epoch, epoch_val_loss):\n",
        "        break  # Stop training if early stopping criterion is met\n",
        "\n",
        "    #Print epoch results\n",
        "    print(f'Epoch [{epoch+1}/{num_epochs}], Train Loss: {epoch_train_loss:.4f}, Train Accuracy: {train_accuracy:.4f}, Val Loss: {epoch_val_loss:.4f}, Val Accuracy: {val_accuracy:.4f}')"
      ]
    },
    {
      "cell_type": "code",
      "execution_count": 38,
      "metadata": {},
      "outputs": [
        {
          "name": "stdout",
          "output_type": "stream",
          "text": [
            "Test Loss: 2.3400, Test Accuracy: 0.4350\n"
          ]
        }
      ],
      "source": [
        "# Evaluation for test data\n",
        "googlenet2.eval()  # Set model to evaluation mode\n",
        "test_correct = 0  # Initialize number of correctly predicted samples\n",
        "test_total = 0  # Initialize total number of samples\n",
        "test_running_loss = 0.0  # Initialize running test loss\n",
        "\n",
        "with torch.no_grad():  # Turn off gradients during evaluation\n",
        "    for inputs, labels in test_loader:  # Iterate through test data\n",
        "        # inputs, labels = inputs.to(device), labels.to(device)  # Move data to GPU\n",
        "        outputs = googlenet2(inputs)  # Get model predictions\n",
        "        if isinstance(outputs, tuple):\n",
        "            logits = outputs[0]  # Unpack logits from model outputs if necessary\n",
        "        else:\n",
        "            logits = outputs\n",
        "        loss = criterion(logits, labels)  # Calculate loss\n",
        "\n",
        "        test_running_loss += loss.item() * inputs.size(0)  # Update running test loss\n",
        "        _, predicted = torch.max(logits, 1)  # Get predicted labels\n",
        "        test_total += labels.size(0)  # Update total number of samples\n",
        "        test_correct += (predicted == labels).sum().item()  # Update number of correctly predicted samples\n",
        "\n",
        "# Calculate test loss and accuracy\n",
        "test_loss = test_running_loss / len(test_loader.dataset)  # Average test loss\n",
        "test_accuracy = test_correct / test_total  # Test accuracy\n",
        "\n",
        "# Print test results\n",
        "print(f'Test Loss: {test_loss:.4f}, Test Accuracy: {test_accuracy:.4f}')"
      ]
    },
    {
      "cell_type": "code",
      "execution_count": 34,
      "metadata": {},
      "outputs": [
        {
          "data": {
            "image/png": "[encoded data removed]",
            "text/plain": [
              "<Figure size 640x480 with 1 Axes>"
            ]
          },
          "metadata": {},
          "output_type": "display_data"
        }
      ],
      "source": [
        "import matplotlib.pyplot as plt\n",
        "\n",
        "# Plot training and validation losses starting from index 1\n",
        "epochs = range(1, len(train_losses) + 1)  # Generate the range of epochs starting from 1\n",
        "\n",
        "# Plot training and validation accuracies\n",
        "plt.plot(epochs, train_accuracies, label='Training Accuracy')  # Plot training accuracies over epochs\n",
        "plt.plot(epochs, val_accuracies, label='Validation Accuracy')  # Plot validation accuracies over epochs\n",
        "plt.xlabel('Epoch')  # Set label for the x-axis\n",
        "plt.ylabel('Accuracy')  # Set label for the y-axis\n",
        "plt.title('Training and Validation Accuracies')  # Set title for the plot\n",
        "plt.legend()  # Display legend\n",
        "plt.show()  # Show the plot"
      ]
    },
    {
      "cell_type": "code",
      "execution_count": 35,
      "metadata": {},
      "outputs": [
        {
          "data": {
            "image/png": "[encoded data removed]",
            "text/plain": [
              "<Figure size 640x480 with 1 Axes>"
            ]
          },
          "metadata": {},
          "output_type": "display_data"
        }
      ],
      "source": [
        "# Plot training and validation losses starting from index 1\n",
        "epochs = range(1, len(train_losses) + 1)  # Generate the range of epochs starting from 1\n",
        "\n",
        "# Plot training and validation losses\n",
        "plt.plot(epochs, train_losses, label='Training Loss')  # Plot training losses over epochs\n",
        "plt.plot(epochs, val_losses, label='Validation Loss')  # Plot validation losses over epochs\n",
        "plt.xlabel('Epoch')  # Set label for the x-axis\n",
        "plt.ylabel('Loss')  # Set label for the y-axis\n",
        "plt.title('Training and Validation Losses')  # Set title for the plot\n",
        "plt.legend()  # Display legend\n",
        "plt.grid(True)  # Display grid\n",
        "plt.show()  # Show the plot"
      ]
    }
  ],
  "metadata": {
    "colab": {
      "provenance": []
    },
    "kernelspec": {
      "display_name": "Python 3",
      "name": "python3"
    },
    "language_info": {
      "codemirror_mode": {
        "name": "ipython",
        "version": 3
      },
      "file_extension": ".py",
      "mimetype": "text/x-python",
      "name": "python",
      "nbconvert_exporter": "python",
      "pygments_lexer": "ipython3",
      "version": "3.9.12"
    }
  },
  "nbformat": 4,
  "nbformat_minor": 0
}
